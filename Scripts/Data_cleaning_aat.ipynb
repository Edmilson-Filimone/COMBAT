{
 "cells": [
  {
   "cell_type": "markdown",
   "id": "6cwwUxb1f7Kw",
   "metadata": {
    "id": "6cwwUxb1f7Kw"
   },
   "source": [
    "# **AAT DATA PROCESSING**"
   ]
  },
  {
   "cell_type": "markdown",
   "id": "TsK_3XFdgQhh",
   "metadata": {
    "id": "TsK_3XFdgQhh"
   },
   "source": [
    "**Bibliotecas**"
   ]
  },
  {
   "cell_type": "code",
   "execution_count": 3,
   "id": "6bde95a3",
   "metadata": {
    "id": "6bde95a3"
   },
   "outputs": [],
   "source": [
    "import re\n",
    "from datetime import date\n",
    "import pandas as pd"
   ]
  },
  {
   "cell_type": "markdown",
   "id": "HlDcbg4MgXRP",
   "metadata": {
    "id": "HlDcbg4MgXRP"
   },
   "source": [
    "**Funcoes**"
   ]
  },
  {
   "cell_type": "markdown",
   "id": "m_eL_Fe-gh-E",
   "metadata": {
    "id": "m_eL_Fe-gh-E"
   },
   "source": [
    "**Converter coordenadas Degrees, minutes, seconds para decimal degrees**"
   ]
  },
  {
   "cell_type": "code",
   "execution_count": 2,
   "id": "482e1526",
   "metadata": {
    "id": "482e1526"
   },
   "outputs": [],
   "source": [
    "# degrees minutes seconds to decimal degress\n",
    "def dms_to_dd(entry):\n",
    "   graus, minutos, segundos, ponto_cardial = re.split('[°\\'\"]+', entry)\n",
    "   #sin = -1 if str(ponto_cardial) == 'S' else 1\n",
    "   convertido = (int(graus)+float(minutos)/60+float(segundos)/3600)\n",
    "   return convertido\n",
    "\n",
    "# degrees minutes to decimal degrees\n",
    "def dm_to_dd(entry):\n",
    "   graus, minutos, ponto_cardial = re.split('[°\\']+', entry)\n",
    "   #sin = -1 if str(ponto_cardial) == 'S' else 1\n",
    "   convertido = (int(graus)+float(minutos)/60)\n",
    "   return convertido"
   ]
  },
  {
   "cell_type": "markdown",
   "id": "lN95nMm6hUb2",
   "metadata": {
    "id": "lN95nMm6hUb2"
   },
   "source": [
    "Em andamento...\n"
   ]
  },
  {
   "cell_type": "code",
   "execution_count": null,
   "id": "fc1bc25e",
   "metadata": {
    "id": "fc1bc25e"
   },
   "outputs": [],
   "source": [
    "def count_tryp():\n",
    "    dt['Tv'] = [tryp for n in dt['Trypanosoma'] if str(n) == \"Tv\": tryp = 1 else tryp = 0]\n",
    "    dt[\"Tc\"] = [tryp for n in dt[\"Trypanosoma\"] if str(n) == \"Tc\": tryp = 1 else tryp = 0]\n",
    "    dt[\"Tb\"] = [tryp for n in dt[\"Trypanosoma\"] if str(n) == \"Tb\": tryp = 1 else tryp = 0]\n",
    "    dt['Total'] = dt['Tv']+dt['Tc']+dt['Tb']"
   ]
  },
  {
   "cell_type": "markdown",
   "id": "McWIY84Hhecv",
   "metadata": {
    "id": "McWIY84Hhecv"
   },
   "source": [
    "**Adcionado a coluna Total para o numero de tripanossomas**"
   ]
  },
  {
   "cell_type": "code",
   "execution_count": 4,
   "id": "fd665a72",
   "metadata": {
    "id": "fd665a72"
   },
   "outputs": [],
   "source": [
    "def total_count():\n",
    "    dt['Total'] = dt['Tv']+dt['Tc']+dt['Tb']-dt['Tv_Tc']+dt['Tv_Tb']+dt['Tc_Tb']"
   ]
  },
  {
   "cell_type": "markdown",
   "id": "uBFtyFFdh443",
   "metadata": {
    "id": "uBFtyFFdh443"
   },
   "source": [
    "**1. Carregando os dados**"
   ]
  },
  {
   "cell_type": "code",
   "execution_count": 5,
   "id": "795ce957",
   "metadata": {
    "id": "795ce957"
   },
   "outputs": [],
   "source": [
    "dt = pd.read_excel(\"AAT_Manica_2014.xlsx\")"
   ]
  },
  {
   "cell_type": "markdown",
   "id": "q2MFU56Qi4TV",
   "metadata": {
    "id": "q2MFU56Qi4TV"
   },
   "source": [
    "**1.1 Processamento**"
   ]
  },
  {
   "cell_type": "markdown",
   "id": "O2GwrcXRj0Lo",
   "metadata": {
    "id": "O2GwrcXRj0Lo"
   },
   "source": [
    "###### *A. converter as coordenadas*"
   ]
  },
  {
   "cell_type": "code",
   "execution_count": 17,
   "id": "66Ew7bLiFdq5",
   "metadata": {
    "id": "66Ew7bLiFdq5"
   },
   "outputs": [],
   "source": [
    "# Grau minuto segundos\n",
    "\n",
    "dt['Latitude'] = (dt['Latitude'].apply(dms_to_dd)) * -1\n",
    "dt['Longitude'] = dt['Longitude'].apply(dms_to_dd)"
   ]
  },
  {
   "cell_type": "code",
   "execution_count": null,
   "id": "d3ca58ff",
   "metadata": {},
   "outputs": [],
   "source": [
    "# Grau minutos\n",
    "\n",
    "dt['Latitude'] = (dt['Latitude'].apply(dm_to_dd)) * -1\n",
    "dt['Longitude'] = dt['Longitude'].apply(dm_to_dd)"
   ]
  },
  {
   "cell_type": "markdown",
   "id": "d-eeJ4NJkZLw",
   "metadata": {
    "id": "d-eeJ4NJkZLw"
   },
   "source": [
    "######  *B. adicionar coluna total*"
   ]
  },
  {
   "cell_type": "code",
   "execution_count": 7,
   "id": "DHAwJ1n0jIlD",
   "metadata": {
    "colab": {
     "base_uri": "https://localhost:8080/",
     "height": 313
    },
    "id": "DHAwJ1n0jIlD",
    "outputId": "da291be3-2d1b-4781-ee6e-81aa29281dae"
   },
   "outputs": [
    {
     "data": {
      "text/html": [
       "<div>\n",
       "<style scoped>\n",
       "    .dataframe tbody tr th:only-of-type {\n",
       "        vertical-align: middle;\n",
       "    }\n",
       "\n",
       "    .dataframe tbody tr th {\n",
       "        vertical-align: top;\n",
       "    }\n",
       "\n",
       "    .dataframe thead th {\n",
       "        text-align: right;\n",
       "    }\n",
       "</style>\n",
       "<table border=\"1\" class=\"dataframe\">\n",
       "  <thead>\n",
       "    <tr style=\"text-align: right;\">\n",
       "      <th></th>\n",
       "      <th>Source_file_name</th>\n",
       "      <th>Sheet_number</th>\n",
       "      <th>Year</th>\n",
       "      <th>Country</th>\n",
       "      <th>Province</th>\n",
       "      <th>District</th>\n",
       "      <th>Location</th>\n",
       "      <th>Longitude</th>\n",
       "      <th>Latitude</th>\n",
       "      <th>Date</th>\n",
       "      <th>...</th>\n",
       "      <th>AGE_Animals</th>\n",
       "      <th>SEX_Animals</th>\n",
       "      <th>PCV</th>\n",
       "      <th>Tv</th>\n",
       "      <th>Tc</th>\n",
       "      <th>Tb</th>\n",
       "      <th>Tv_Tc</th>\n",
       "      <th>Tv_Tb</th>\n",
       "      <th>Tc_Tb</th>\n",
       "      <th>Total</th>\n",
       "    </tr>\n",
       "  </thead>\n",
       "  <tbody>\n",
       "    <tr>\n",
       "      <th>0</th>\n",
       "      <td>Mozambique_Repository/AAT/Manica/AAT_Manica_20...</td>\n",
       "      <td>1</td>\n",
       "      <td>2014</td>\n",
       "      <td>Mozambique</td>\n",
       "      <td>Manica</td>\n",
       "      <td>Vanduzi</td>\n",
       "      <td>Belas-Mozbife</td>\n",
       "      <td>NaN</td>\n",
       "      <td>NaN</td>\n",
       "      <td>2014-11-06</td>\n",
       "      <td>...</td>\n",
       "      <td>NaN</td>\n",
       "      <td>NaN</td>\n",
       "      <td>41</td>\n",
       "      <td>0</td>\n",
       "      <td>0</td>\n",
       "      <td>0</td>\n",
       "      <td>0</td>\n",
       "      <td>0</td>\n",
       "      <td>0</td>\n",
       "      <td>0</td>\n",
       "    </tr>\n",
       "    <tr>\n",
       "      <th>1</th>\n",
       "      <td>Mozambique_Repository/AAT/Manica/AAT_Manica_20...</td>\n",
       "      <td>1</td>\n",
       "      <td>2014</td>\n",
       "      <td>Mozambique</td>\n",
       "      <td>Manica</td>\n",
       "      <td>Vanduzi</td>\n",
       "      <td>Belas-Mozbife</td>\n",
       "      <td>NaN</td>\n",
       "      <td>NaN</td>\n",
       "      <td>2014-11-06</td>\n",
       "      <td>...</td>\n",
       "      <td>NaN</td>\n",
       "      <td>NaN</td>\n",
       "      <td>32</td>\n",
       "      <td>0</td>\n",
       "      <td>0</td>\n",
       "      <td>0</td>\n",
       "      <td>0</td>\n",
       "      <td>0</td>\n",
       "      <td>0</td>\n",
       "      <td>0</td>\n",
       "    </tr>\n",
       "    <tr>\n",
       "      <th>2</th>\n",
       "      <td>Mozambique_Repository/AAT/Manica/AAT_Manica_20...</td>\n",
       "      <td>1</td>\n",
       "      <td>2014</td>\n",
       "      <td>Mozambique</td>\n",
       "      <td>Manica</td>\n",
       "      <td>Vanduzi</td>\n",
       "      <td>Belas-Mozbife</td>\n",
       "      <td>NaN</td>\n",
       "      <td>NaN</td>\n",
       "      <td>2014-11-06</td>\n",
       "      <td>...</td>\n",
       "      <td>NaN</td>\n",
       "      <td>NaN</td>\n",
       "      <td>35</td>\n",
       "      <td>0</td>\n",
       "      <td>0</td>\n",
       "      <td>0</td>\n",
       "      <td>0</td>\n",
       "      <td>0</td>\n",
       "      <td>0</td>\n",
       "      <td>0</td>\n",
       "    </tr>\n",
       "    <tr>\n",
       "      <th>3</th>\n",
       "      <td>Mozambique_Repository/AAT/Manica/AAT_Manica_20...</td>\n",
       "      <td>1</td>\n",
       "      <td>2014</td>\n",
       "      <td>Mozambique</td>\n",
       "      <td>Manica</td>\n",
       "      <td>Vanduzi</td>\n",
       "      <td>Belas-Mozbife</td>\n",
       "      <td>NaN</td>\n",
       "      <td>NaN</td>\n",
       "      <td>2014-11-06</td>\n",
       "      <td>...</td>\n",
       "      <td>NaN</td>\n",
       "      <td>NaN</td>\n",
       "      <td>38</td>\n",
       "      <td>0</td>\n",
       "      <td>0</td>\n",
       "      <td>0</td>\n",
       "      <td>0</td>\n",
       "      <td>0</td>\n",
       "      <td>0</td>\n",
       "      <td>0</td>\n",
       "    </tr>\n",
       "    <tr>\n",
       "      <th>4</th>\n",
       "      <td>Mozambique_Repository/AAT/Manica/AAT_Manica_20...</td>\n",
       "      <td>1</td>\n",
       "      <td>2014</td>\n",
       "      <td>Mozambique</td>\n",
       "      <td>Manica</td>\n",
       "      <td>Vanduzi</td>\n",
       "      <td>Belas-Mozbife</td>\n",
       "      <td>NaN</td>\n",
       "      <td>NaN</td>\n",
       "      <td>2014-11-06</td>\n",
       "      <td>...</td>\n",
       "      <td>NaN</td>\n",
       "      <td>NaN</td>\n",
       "      <td>30</td>\n",
       "      <td>0</td>\n",
       "      <td>0</td>\n",
       "      <td>0</td>\n",
       "      <td>0</td>\n",
       "      <td>0</td>\n",
       "      <td>0</td>\n",
       "      <td>0</td>\n",
       "    </tr>\n",
       "  </tbody>\n",
       "</table>\n",
       "<p>5 rows × 22 columns</p>\n",
       "</div>"
      ],
      "text/plain": [
       "                                    Source_file_name  Sheet_number  Year  \\\n",
       "0  Mozambique_Repository/AAT/Manica/AAT_Manica_20...             1  2014   \n",
       "1  Mozambique_Repository/AAT/Manica/AAT_Manica_20...             1  2014   \n",
       "2  Mozambique_Repository/AAT/Manica/AAT_Manica_20...             1  2014   \n",
       "3  Mozambique_Repository/AAT/Manica/AAT_Manica_20...             1  2014   \n",
       "4  Mozambique_Repository/AAT/Manica/AAT_Manica_20...             1  2014   \n",
       "\n",
       "      Country Province District       Location  Longitude  Latitude  \\\n",
       "0  Mozambique   Manica  Vanduzi  Belas-Mozbife        NaN       NaN   \n",
       "1  Mozambique   Manica  Vanduzi  Belas-Mozbife        NaN       NaN   \n",
       "2  Mozambique   Manica  Vanduzi  Belas-Mozbife        NaN       NaN   \n",
       "3  Mozambique   Manica  Vanduzi  Belas-Mozbife        NaN       NaN   \n",
       "4  Mozambique   Manica  Vanduzi  Belas-Mozbife        NaN       NaN   \n",
       "\n",
       "        Date  ... AGE_Animals  SEX_Animals  PCV  Tv  Tc  Tb  Tv_Tc  Tv_Tb  \\\n",
       "0 2014-11-06  ...         NaN          NaN   41   0   0   0      0      0   \n",
       "1 2014-11-06  ...         NaN          NaN   32   0   0   0      0      0   \n",
       "2 2014-11-06  ...         NaN          NaN   35   0   0   0      0      0   \n",
       "3 2014-11-06  ...         NaN          NaN   38   0   0   0      0      0   \n",
       "4 2014-11-06  ...         NaN          NaN   30   0   0   0      0      0   \n",
       "\n",
       "   Tc_Tb  Total  \n",
       "0      0      0  \n",
       "1      0      0  \n",
       "2      0      0  \n",
       "3      0      0  \n",
       "4      0      0  \n",
       "\n",
       "[5 rows x 22 columns]"
      ]
     },
     "execution_count": 7,
     "metadata": {},
     "output_type": "execute_result"
    }
   ],
   "source": [
    "total_count()\n",
    "dt.head()"
   ]
  },
  {
   "cell_type": "code",
   "execution_count": 13,
   "id": "nucb7ooMF76A",
   "metadata": {
    "colab": {
     "base_uri": "https://localhost:8080/"
    },
    "id": "nucb7ooMF76A",
    "outputId": "631beed9-b8ba-4428-9e3e-decee07ae19a"
   },
   "outputs": [
    {
     "data": {
      "text/plain": [
       "Index(['Source_fine_name', 'Sheet_number', 'Year', 'Country', 'Province',\n",
       "       'District', 'Location', 'Longitude', 'Latitude', 'Date',\n",
       "       'SPECIES_Animals', 'BREED_Animals', 'AGE_Animals', 'SEX_Animals', 'PCV',\n",
       "       'Tv', 'Tc', 'Tb', 'Tv_Tc', 'Tv_Tb', 'Tc_Tb', 'Total'],\n",
       "      dtype='object')"
      ]
     },
     "execution_count": 13,
     "metadata": {},
     "output_type": "execute_result"
    }
   ],
   "source": [
    "dt.columns"
   ]
  },
  {
   "cell_type": "markdown",
   "id": "wdCtYHufleP1",
   "metadata": {
    "id": "wdCtYHufleP1"
   },
   "source": [
    "*C. agregar os dados por localidade*"
   ]
  },
  {
   "cell_type": "code",
   "execution_count": 35,
   "id": "e5408abe",
   "metadata": {
    "id": "e5408abe"
   },
   "outputs": [],
   "source": [
    "# Aggregacao dos dados por localidade\n",
    "agregado = dt.groupby(['Source_file_name','Province', 'District','Location']).agg({'Location':'count','PCV':'mean','Tv':'sum','Tc':'sum','Tb':'sum', \n",
    "'Tv_Tc':'sum', 'Tv_Tb':'sum', 'Tc_Tb':'sum', 'Total':'sum'})\n",
    "\n",
    "agregado.rename(columns={'Location':'Sample_size'},inplace=True)\n",
    "agregado.reset_index(inplace=True)\n",
    "\n",
    "#agregado['Location'] = agregado.index.get_level_values('Location')"
   ]
  },
  {
   "cell_type": "code",
   "execution_count": 9,
   "id": "cb0f9e38",
   "metadata": {},
   "outputs": [],
   "source": [
    "# Agregado PCV affected e PCV not affected\n",
    "pcv_affected = dt.loc[dt['Total']==1]\n",
    "pcv_not_affected = dt.loc[dt['Total']==0]\n",
    "\n",
    "pcv_af_agg = pcv_affected.groupby('Location')[['PCV','Total']].mean()\n",
    "pcv_no_agg = pcv_not_affected.groupby('Location')[['PCV','Total']].mean()"
   ]
  },
  {
   "cell_type": "code",
   "execution_count": 30,
   "id": "076d455b",
   "metadata": {},
   "outputs": [
    {
     "data": {
      "text/html": [
       "<div>\n",
       "<style scoped>\n",
       "    .dataframe tbody tr th:only-of-type {\n",
       "        vertical-align: middle;\n",
       "    }\n",
       "\n",
       "    .dataframe tbody tr th {\n",
       "        vertical-align: top;\n",
       "    }\n",
       "\n",
       "    .dataframe thead th {\n",
       "        text-align: right;\n",
       "    }\n",
       "</style>\n",
       "<table border=\"1\" class=\"dataframe\">\n",
       "  <thead>\n",
       "    <tr style=\"text-align: right;\">\n",
       "      <th></th>\n",
       "      <th>Location</th>\n",
       "      <th>PCV_affected</th>\n",
       "      <th>PCV_affected</th>\n",
       "    </tr>\n",
       "  </thead>\n",
       "  <tbody>\n",
       "    <tr>\n",
       "      <th>0</th>\n",
       "      <td>Belas-Mozbife</td>\n",
       "      <td>35.961538</td>\n",
       "      <td>NaN</td>\n",
       "    </tr>\n",
       "    <tr>\n",
       "      <th>1</th>\n",
       "      <td>Mavonde-Mozbife</td>\n",
       "      <td>32.734694</td>\n",
       "      <td>28.5</td>\n",
       "    </tr>\n",
       "  </tbody>\n",
       "</table>\n",
       "</div>"
      ],
      "text/plain": [
       "          Location  PCV_affected  PCV_affected\n",
       "0    Belas-Mozbife     35.961538           NaN\n",
       "1  Mavonde-Mozbife     32.734694          28.5"
      ]
     },
     "execution_count": 30,
     "metadata": {},
     "output_type": "execute_result"
    }
   ],
   "source": [
    "concatenado = pd.concat([pcv_no_agg, pcv_af_agg],axis=1)\n",
    "concatenado.rename(columns={'PCV':'PCV_not_affected','PCV':'PCV_affected'},inplace=True)\n",
    "concatenado.drop(['Total','Total'],axis=1,inplace=True)\n",
    "concatenado.reset_index(inplace=True)\n",
    "concatenado"
   ]
  },
  {
   "cell_type": "markdown",
   "id": "uwWs5tbYsYy2",
   "metadata": {
    "id": "uwWs5tbYsYy2"
   },
   "source": [
    "*D. Calculo de prevalencia*"
   ]
  },
  {
   "cell_type": "code",
   "execution_count": 36,
   "id": "Fle4mvKFsjLA",
   "metadata": {
    "id": "Fle4mvKFsjLA"
   },
   "outputs": [],
   "source": [
    "cols = ['Tv', 'Tc', 'Tb', 'Tv_Tc', 'Tv_Tb', 'Tc_Tb','Total']\n",
    "ncols = ['TvPR', 'TcPR', 'TbPR', 'Tv_TcPR', 'Tv_TbPR', 'Tc_TbPR','TPR']\n",
    "\n",
    "for c, nc in zip(cols,ncols): \n",
    "  agregado[nc] = agregado[c]/agregado['Sample_size']*100\n",
    "\n",
    "# merging\n",
    "agg = pd.merge(agregado,concatenado,how='outer',on='Location')"
   ]
  },
  {
   "cell_type": "code",
   "execution_count": 37,
   "id": "987edf13",
   "metadata": {
    "colab": {
     "base_uri": "https://localhost:8080/"
    },
    "id": "987edf13",
    "outputId": "2a847b6a-4d53-4d63-ec44-ccdfa2f5a508"
   },
   "outputs": [
    {
     "data": {
      "text/plain": [
       "Index(['Source_file_name', 'Province', 'District', 'Location', 'Sample_size',\n",
       "       'PCV', 'Tv', 'Tc', 'Tb', 'Tv_Tc', 'Tv_Tb', 'Tc_Tb', 'Total', 'TvPR',\n",
       "       'TcPR', 'TbPR', 'Tv_TcPR', 'Tv_TbPR', 'Tc_TbPR', 'TPR', 'PCV_affected',\n",
       "       'PCV_affected'],\n",
       "      dtype='object')"
      ]
     },
     "execution_count": 37,
     "metadata": {},
     "output_type": "execute_result"
    }
   ],
   "source": [
    "agg.columns"
   ]
  },
  {
   "cell_type": "markdown",
   "id": "zdP4TTcFmZah",
   "metadata": {
    "id": "zdP4TTcFmZah"
   },
   "source": [
    "*E. Salvar os dados*"
   ]
  },
  {
   "cell_type": "code",
   "execution_count": 38,
   "id": "8ba7cf70",
   "metadata": {
    "colab": {
     "base_uri": "https://localhost:8080/",
     "height": 195
    },
    "id": "8ba7cf70",
    "outputId": "30d52396-ce37-4b5c-be2d-e31b52965eb2"
   },
   "outputs": [
    {
     "data": {
      "text/html": [
       "<div>\n",
       "<style scoped>\n",
       "    .dataframe tbody tr th:only-of-type {\n",
       "        vertical-align: middle;\n",
       "    }\n",
       "\n",
       "    .dataframe tbody tr th {\n",
       "        vertical-align: top;\n",
       "    }\n",
       "\n",
       "    .dataframe thead th {\n",
       "        text-align: right;\n",
       "    }\n",
       "</style>\n",
       "<table border=\"1\" class=\"dataframe\">\n",
       "  <thead>\n",
       "    <tr style=\"text-align: right;\">\n",
       "      <th></th>\n",
       "      <th>Source_file_name</th>\n",
       "      <th>Province</th>\n",
       "      <th>District</th>\n",
       "      <th>Location</th>\n",
       "      <th>Sample_size</th>\n",
       "      <th>PCV</th>\n",
       "      <th>Tv</th>\n",
       "      <th>Tc</th>\n",
       "      <th>Tb</th>\n",
       "      <th>Tv_Tc</th>\n",
       "      <th>...</th>\n",
       "      <th>Total</th>\n",
       "      <th>TvPR</th>\n",
       "      <th>TcPR</th>\n",
       "      <th>TbPR</th>\n",
       "      <th>Tv_TcPR</th>\n",
       "      <th>Tv_TbPR</th>\n",
       "      <th>Tc_TbPR</th>\n",
       "      <th>TPR</th>\n",
       "      <th>PCV_affected</th>\n",
       "      <th>PCV_affected</th>\n",
       "    </tr>\n",
       "  </thead>\n",
       "  <tbody>\n",
       "    <tr>\n",
       "      <th>0</th>\n",
       "      <td>Mozambique_Repository/AAT/Manica/AAT_Manica_20...</td>\n",
       "      <td>Manica</td>\n",
       "      <td>Vanduzi</td>\n",
       "      <td>Belas-Mozbife</td>\n",
       "      <td>26</td>\n",
       "      <td>35.961538</td>\n",
       "      <td>0</td>\n",
       "      <td>0</td>\n",
       "      <td>0</td>\n",
       "      <td>0</td>\n",
       "      <td>...</td>\n",
       "      <td>0</td>\n",
       "      <td>0.0</td>\n",
       "      <td>0.000000</td>\n",
       "      <td>0.0</td>\n",
       "      <td>0.0</td>\n",
       "      <td>0.0</td>\n",
       "      <td>0.0</td>\n",
       "      <td>0.000000</td>\n",
       "      <td>35.961538</td>\n",
       "      <td>NaN</td>\n",
       "    </tr>\n",
       "    <tr>\n",
       "      <th>1</th>\n",
       "      <td>Mozambique_Repository/AAT/Manica/AAT_Manica_20...</td>\n",
       "      <td>Manica</td>\n",
       "      <td>Vanduzi</td>\n",
       "      <td>Mavonde-Mozbife</td>\n",
       "      <td>51</td>\n",
       "      <td>32.568627</td>\n",
       "      <td>0</td>\n",
       "      <td>2</td>\n",
       "      <td>0</td>\n",
       "      <td>0</td>\n",
       "      <td>...</td>\n",
       "      <td>2</td>\n",
       "      <td>0.0</td>\n",
       "      <td>3.921569</td>\n",
       "      <td>0.0</td>\n",
       "      <td>0.0</td>\n",
       "      <td>0.0</td>\n",
       "      <td>0.0</td>\n",
       "      <td>3.921569</td>\n",
       "      <td>32.734694</td>\n",
       "      <td>28.5</td>\n",
       "    </tr>\n",
       "  </tbody>\n",
       "</table>\n",
       "<p>2 rows × 22 columns</p>\n",
       "</div>"
      ],
      "text/plain": [
       "                                    Source_file_name Province District  \\\n",
       "0  Mozambique_Repository/AAT/Manica/AAT_Manica_20...   Manica  Vanduzi   \n",
       "1  Mozambique_Repository/AAT/Manica/AAT_Manica_20...   Manica  Vanduzi   \n",
       "\n",
       "          Location  Sample_size        PCV  Tv  Tc  Tb  Tv_Tc  ...  Total  \\\n",
       "0    Belas-Mozbife           26  35.961538   0   0   0      0  ...      0   \n",
       "1  Mavonde-Mozbife           51  32.568627   0   2   0      0  ...      2   \n",
       "\n",
       "   TvPR      TcPR  TbPR  Tv_TcPR  Tv_TbPR  Tc_TbPR       TPR  PCV_affected  \\\n",
       "0   0.0  0.000000   0.0      0.0      0.0      0.0  0.000000     35.961538   \n",
       "1   0.0  3.921569   0.0      0.0      0.0      0.0  3.921569     32.734694   \n",
       "\n",
       "   PCV_affected  \n",
       "0           NaN  \n",
       "1          28.5  \n",
       "\n",
       "[2 rows x 22 columns]"
      ]
     },
     "execution_count": 38,
     "metadata": {},
     "output_type": "execute_result"
    }
   ],
   "source": [
    "# Resultado final\n",
    "agg.head()\n"
   ]
  },
  {
   "cell_type": "code",
   "execution_count": 16,
   "id": "cac3a2d2",
   "metadata": {},
   "outputs": [],
   "source": [
    "# Salvando todas tabelas numa multisheet excel\n",
    "\n",
    "writer = pd.ExcelWriter('V_AAT_Manica_2014.xlsx', engine='xlsxwriter')\n",
    "\n",
    "dt.to_excel(writer, sheet_name='Cleani')\n",
    "agregado.to_excel(writer, sheet_name='agga')\n",
    "writer.save()"
   ]
  },
  {
   "cell_type": "code",
   "execution_count": null,
   "id": "d4c46d22",
   "metadata": {},
   "outputs": [],
   "source": []
  }
 ],
 "metadata": {
  "colab": {
   "collapsed_sections": [],
   "name": "Data_cleaning_aat.ipynb",
   "provenance": []
  },
  "kernelspec": {
   "display_name": "Python 3",
   "language": "python",
   "name": "python3"
  },
  "language_info": {
   "codemirror_mode": {
    "name": "ipython",
    "version": 3
   },
   "file_extension": ".py",
   "mimetype": "text/x-python",
   "name": "python",
   "nbconvert_exporter": "python",
   "pygments_lexer": "ipython3",
   "version": "3.8.8"
  }
 },
 "nbformat": 4,
 "nbformat_minor": 5
}
