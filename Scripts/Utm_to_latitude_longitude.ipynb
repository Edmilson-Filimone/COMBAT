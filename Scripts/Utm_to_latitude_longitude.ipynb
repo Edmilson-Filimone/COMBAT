{
 "cells": [
  {
   "cell_type": "code",
   "execution_count": 4,
   "id": "8463b139",
   "metadata": {},
   "outputs": [],
   "source": [
    "import utm\n",
    "import pandas as pd"
   ]
  },
  {
   "cell_type": "code",
   "execution_count": 39,
   "id": "ee3c792e",
   "metadata": {},
   "outputs": [
    {
     "data": {
      "text/html": [
       "<div>\n",
       "<style scoped>\n",
       "    .dataframe tbody tr th:only-of-type {\n",
       "        vertical-align: middle;\n",
       "    }\n",
       "\n",
       "    .dataframe tbody tr th {\n",
       "        vertical-align: top;\n",
       "    }\n",
       "\n",
       "    .dataframe thead th {\n",
       "        text-align: right;\n",
       "    }\n",
       "</style>\n",
       "<table border=\"1\" class=\"dataframe\">\n",
       "  <thead>\n",
       "    <tr style=\"text-align: right;\">\n",
       "      <th></th>\n",
       "      <th>X</th>\n",
       "      <th>Y</th>\n",
       "    </tr>\n",
       "  </thead>\n",
       "  <tbody>\n",
       "    <tr>\n",
       "      <th>0</th>\n",
       "      <td>484225.383586</td>\n",
       "      <td>7.052807e+06</td>\n",
       "    </tr>\n",
       "    <tr>\n",
       "      <th>1</th>\n",
       "      <td>484114.315785</td>\n",
       "      <td>7.054081e+06</td>\n",
       "    </tr>\n",
       "    <tr>\n",
       "      <th>2</th>\n",
       "      <td>484636.690973</td>\n",
       "      <td>7.058356e+06</td>\n",
       "    </tr>\n",
       "    <tr>\n",
       "      <th>3</th>\n",
       "      <td>484814.152935</td>\n",
       "      <td>7.051490e+06</td>\n",
       "    </tr>\n",
       "  </tbody>\n",
       "</table>\n",
       "</div>"
      ],
      "text/plain": [
       "               X             Y\n",
       "0  484225.383586  7.052807e+06\n",
       "1  484114.315785  7.054081e+06\n",
       "2  484636.690973  7.058356e+06\n",
       "3  484814.152935  7.051490e+06"
      ]
     },
     "execution_count": 39,
     "metadata": {},
     "output_type": "execute_result"
    }
   ],
   "source": [
    "ut = pd.read_excel('utm.xlsx')\n",
    "ut"
   ]
  },
  {
   "cell_type": "code",
   "execution_count": 40,
   "id": "f5b02894",
   "metadata": {},
   "outputs": [],
   "source": [
    "con = utm.to_latlon(ut['X'],ut['Y'],36,'J')"
   ]
  },
  {
   "cell_type": "code",
   "execution_count": 41,
   "id": "c92522b5",
   "metadata": {},
   "outputs": [
    {
     "name": "stdout",
     "output_type": "stream",
     "text": [
      "0    32.8415\n",
      "1    32.8404\n",
      "2    32.8457\n",
      "3    32.8474\n",
      "dtype: float64\n",
      "0   -26.6456\n",
      "1   -26.6341\n",
      "2   -26.5955\n",
      "3   -26.6575\n",
      "dtype: float64\n"
     ]
    }
   ],
   "source": [
    "print(con[1])\n",
    "print(con[0])"
   ]
  },
  {
   "cell_type": "code",
   "execution_count": 16,
   "id": "69103519",
   "metadata": {},
   "outputs": [],
   "source": [
    "ut['lon'] = con[0]\n",
    "ut['lat'] = con[1]"
   ]
  },
  {
   "cell_type": "code",
   "execution_count": 17,
   "id": "e76ab21b",
   "metadata": {},
   "outputs": [
    {
     "data": {
      "text/html": [
       "<div>\n",
       "<style scoped>\n",
       "    .dataframe tbody tr th:only-of-type {\n",
       "        vertical-align: middle;\n",
       "    }\n",
       "\n",
       "    .dataframe tbody tr th {\n",
       "        vertical-align: top;\n",
       "    }\n",
       "\n",
       "    .dataframe thead th {\n",
       "        text-align: right;\n",
       "    }\n",
       "</style>\n",
       "<table border=\"1\" class=\"dataframe\">\n",
       "  <thead>\n",
       "    <tr style=\"text-align: right;\">\n",
       "      <th></th>\n",
       "      <th>X</th>\n",
       "      <th>Y</th>\n",
       "      <th>lon</th>\n",
       "      <th>lat</th>\n",
       "    </tr>\n",
       "  </thead>\n",
       "  <tbody>\n",
       "    <tr>\n",
       "      <th>0</th>\n",
       "      <td>484225.383586</td>\n",
       "      <td>-2.947193e+06</td>\n",
       "      <td>32.8415</td>\n",
       "      <td>-26.6456</td>\n",
       "    </tr>\n",
       "    <tr>\n",
       "      <th>1</th>\n",
       "      <td>484114.315785</td>\n",
       "      <td>-2.945919e+06</td>\n",
       "      <td>32.8404</td>\n",
       "      <td>-26.6341</td>\n",
       "    </tr>\n",
       "    <tr>\n",
       "      <th>2</th>\n",
       "      <td>484636.690973</td>\n",
       "      <td>-2.941644e+06</td>\n",
       "      <td>32.8457</td>\n",
       "      <td>-26.5955</td>\n",
       "    </tr>\n",
       "    <tr>\n",
       "      <th>3</th>\n",
       "      <td>484814.152935</td>\n",
       "      <td>-2.948510e+06</td>\n",
       "      <td>32.8474</td>\n",
       "      <td>-26.6575</td>\n",
       "    </tr>\n",
       "  </tbody>\n",
       "</table>\n",
       "</div>"
      ],
      "text/plain": [
       "               X             Y      lon      lat\n",
       "0  484225.383586 -2.947193e+06  32.8415 -26.6456\n",
       "1  484114.315785 -2.945919e+06  32.8404 -26.6341\n",
       "2  484636.690973 -2.941644e+06  32.8457 -26.5955\n",
       "3  484814.152935 -2.948510e+06  32.8474 -26.6575"
      ]
     },
     "execution_count": 17,
     "metadata": {},
     "output_type": "execute_result"
    }
   ],
   "source": [
    "ut.head()"
   ]
  },
  {
   "cell_type": "code",
   "execution_count": 37,
   "id": "928b923b",
   "metadata": {},
   "outputs": [],
   "source": [
    "# Funcao\n",
    "\n",
    "def utm_para_latlon(dataframe, zona, letra):\n",
    "    lat_lon = utm.to_latlon(dataframe['X'],dataframe['Y'], zona, str(letra))\n",
    "    dataframe['Longitude'] = lat_lon[1]\n",
    "    dataframe['Latitude'] = lat_lon[0]"
   ]
  },
  {
   "cell_type": "code",
   "execution_count": 38,
   "id": "b26859ad",
   "metadata": {},
   "outputs": [
    {
     "data": {
      "text/html": [
       "<div>\n",
       "<style scoped>\n",
       "    .dataframe tbody tr th:only-of-type {\n",
       "        vertical-align: middle;\n",
       "    }\n",
       "\n",
       "    .dataframe tbody tr th {\n",
       "        vertical-align: top;\n",
       "    }\n",
       "\n",
       "    .dataframe thead th {\n",
       "        text-align: right;\n",
       "    }\n",
       "</style>\n",
       "<table border=\"1\" class=\"dataframe\">\n",
       "  <thead>\n",
       "    <tr style=\"text-align: right;\">\n",
       "      <th></th>\n",
       "      <th>X</th>\n",
       "      <th>Y</th>\n",
       "      <th>Longitude</th>\n",
       "      <th>Latitude</th>\n",
       "    </tr>\n",
       "  </thead>\n",
       "  <tbody>\n",
       "    <tr>\n",
       "      <th>0</th>\n",
       "      <td>484225.383586</td>\n",
       "      <td>-2.947193e+06</td>\n",
       "      <td>32.8415</td>\n",
       "      <td>-26.6456</td>\n",
       "    </tr>\n",
       "    <tr>\n",
       "      <th>1</th>\n",
       "      <td>484114.315785</td>\n",
       "      <td>-2.945919e+06</td>\n",
       "      <td>32.8404</td>\n",
       "      <td>-26.6341</td>\n",
       "    </tr>\n",
       "    <tr>\n",
       "      <th>2</th>\n",
       "      <td>484636.690973</td>\n",
       "      <td>-2.941644e+06</td>\n",
       "      <td>32.8457</td>\n",
       "      <td>-26.5955</td>\n",
       "    </tr>\n",
       "    <tr>\n",
       "      <th>3</th>\n",
       "      <td>484814.152935</td>\n",
       "      <td>-2.948510e+06</td>\n",
       "      <td>32.8474</td>\n",
       "      <td>-26.6575</td>\n",
       "    </tr>\n",
       "    <tr>\n",
       "      <th>4</th>\n",
       "      <td>479489.030079</td>\n",
       "      <td>-2.947831e+06</td>\n",
       "      <td>32.7939</td>\n",
       "      <td>-26.6513</td>\n",
       "    </tr>\n",
       "  </tbody>\n",
       "</table>\n",
       "</div>"
      ],
      "text/plain": [
       "               X             Y  Longitude  Latitude\n",
       "0  484225.383586 -2.947193e+06    32.8415  -26.6456\n",
       "1  484114.315785 -2.945919e+06    32.8404  -26.6341\n",
       "2  484636.690973 -2.941644e+06    32.8457  -26.5955\n",
       "3  484814.152935 -2.948510e+06    32.8474  -26.6575\n",
       "4  479489.030079 -2.947831e+06    32.7939  -26.6513"
      ]
     },
     "execution_count": 38,
     "metadata": {},
     "output_type": "execute_result"
    }
   ],
   "source": [
    "# Testando a funcao\n",
    "data = pd.read_excel('utm_2.xlsx')\n",
    "utm_para_latlon(data, 36, 'J')\n",
    "data.to_excel('utm_to_ll.xlsx')\n",
    "data.head()"
   ]
  }
 ],
 "metadata": {
  "kernelspec": {
   "display_name": "Python 3",
   "language": "python",
   "name": "python3"
  },
  "language_info": {
   "codemirror_mode": {
    "name": "ipython",
    "version": 3
   },
   "file_extension": ".py",
   "mimetype": "text/x-python",
   "name": "python",
   "nbconvert_exporter": "python",
   "pygments_lexer": "ipython3",
   "version": "3.8.8"
  }
 },
 "nbformat": 4,
 "nbformat_minor": 5
}
